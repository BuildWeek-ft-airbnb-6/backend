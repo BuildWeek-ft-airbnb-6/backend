{
 "cells": [
  {
   "cell_type": "markdown",
   "id": "96881a51",
   "metadata": {},
   "source": [
    "**Data Exploration**"
   ]
  },
  {
   "cell_type": "code",
   "execution_count": 39,
   "id": "d6753d65",
   "metadata": {},
   "outputs": [],
   "source": [
    "# Utility Imports\n",
    "import pandas as pd\n",
    "import numpy as np\n",
    "\n",
    "# Visualization Imports\n",
    "import seaborn as sns\n",
    "import matplotlib.pyplot as plt\n",
    "\n",
    "# Mode-building Imports\n",
    "from keras.callbacks import ModelCheckpoint\n",
    "from keras.models import Sequential\n",
    "from keras.layers import Dense, Activation, Flatten\n",
    "from sklearn.preprocessing import OrdinalEncoder\n",
    "from datetime import datetime\n",
    "# Data preperation class\n",
    "from model_tools_class import mt\n",
    "\n",
    "# Reading in the data.\n",
    "df = pd.read_csv('../data/train.csv')\n",
    "\n",
    "def wrangle(df):\n",
    "    '''\n",
    "    This function wranlges/prepares the data for usage in the model.\n",
    "    '''\n",
    "\n",
    "    # The daily price of the AirBnb listing.\n",
    "    df['price'] = df['log_price'].apply(lambda x : round(np.exp(x)))\n",
    "\n",
    "    # Cleaning the amenities column.\n",
    "    df['amenities'] = df['amenities'].apply(mt.clean)\n",
    "    df['amenities'] = df['amenities'].apply(lambda x: len(x))\n",
    "\n",
    "    # Applying the get_days function to create a new feature = total number of hosted days.\n",
    "    df['host_since_days'] = df['host_since'].apply(mt.get_days)\n",
    "\n",
    "    # Dropping redundant columns.\n",
    "    df.drop(columns=['host_since','log_price','id','latitude','longitude','name','description','thumbnail_url','review_scores_rating','number_of_reviews','host_has_profile_pic','host_response_rate','last_review','first_review'],inplace=True)\n",
    "\n",
    "    # A new column: Is the room isntantly bookable.\n",
    "    df['instant_bookable'].replace(('f','t'),(\"False\",'True'),inplace=True)\n",
    "\n",
    "    # A new column: is the hosts' identity verified.\n",
    "    df['host_identity_verified'].replace(('f','t'),(\"False\",'True'),inplace=True)\n",
    "\n",
    "    # Dropping null values\n",
    "    df = df.dropna(axis=0)\n",
    "    \n",
    "    return df\n",
    "\n",
    "df = wrangle(df)"
   ]
  },
  {
   "cell_type": "code",
   "execution_count": 40,
   "id": "1840a452",
   "metadata": {},
   "outputs": [],
   "source": [
    "# Splitting the data\n",
    "Y = df['price']\n",
    "X = df.drop(columns=['price'])\n",
    "\n",
    "# moving price to the back of df\n",
    "df['target/price'] = df['price']\n",
    "df.drop(columns=['price'],inplace=True)"
   ]
  },
  {
   "cell_type": "markdown",
   "id": "c5f89b0b",
   "metadata": {},
   "source": [
    "**Visualizations**"
   ]
  },
  {
   "cell_type": "code",
   "execution_count": 41,
   "id": "714e160b",
   "metadata": {},
   "outputs": [],
   "source": [
    "# Plotting the targeted features.\n",
    "#X.hist(figsize=(9,9),bins = 20)"
   ]
  },
  {
   "cell_type": "code",
   "execution_count": 42,
   "id": "22e8078c",
   "metadata": {},
   "outputs": [
    {
     "data": {
      "text/plain": [
       "<Figure size 720x720 with 0 Axes>"
      ]
     },
     "metadata": {},
     "output_type": "display_data"
    }
   ],
   "source": [
    "# Heatmap visualization\n",
    "\n",
    "x = df.corr()\n",
    "figure = plt.figure(figsize=(10,10))\n",
    "#sns.heatmap(x,vmax=0.65,square=True)\n",
    "#plt.show()"
   ]
  },
  {
   "cell_type": "markdown",
   "id": "55d8c4e2",
   "metadata": {},
   "source": [
    "**Model Creation**"
   ]
  },
  {
   "cell_type": "code",
   "execution_count": 43,
   "id": "f5100678",
   "metadata": {},
   "outputs": [],
   "source": [
    "X_strings = X.select_dtypes(include='object')\n",
    "X_non_strings = X.select_dtypes(include=['int64','float'])\n",
    "oe =OrdinalEncoder()\n",
    "oe.fit(X_strings)\n",
    "X_train = oe.transform(X_strings)"
   ]
  },
  {
   "cell_type": "code",
   "execution_count": 44,
   "id": "413562c3",
   "metadata": {},
   "outputs": [],
   "source": [
    "X_train_whole = np.concatenate((X_train,X_non_strings),axis=1)\n",
    "\n",
    "model_columns = X_strings.columns.append(X_non_strings.columns)"
   ]
  },
  {
   "cell_type": "code",
   "execution_count": 45,
   "id": "d9b3d3d0",
   "metadata": {},
   "outputs": [
    {
     "data": {
      "text/plain": [
       "Index(['property_type', 'room_type', 'bed_type', 'cancellation_policy', 'city',\n",
       "       'host_identity_verified', 'instant_bookable', 'neighbourhood',\n",
       "       'zipcode', 'amenities', 'accommodates', 'bathrooms', 'bedrooms', 'beds',\n",
       "       'host_since_days'],\n",
       "      dtype='object')"
      ]
     },
     "execution_count": 45,
     "metadata": {},
     "output_type": "execute_result"
    }
   ],
   "source": [
    "model_columns"
   ]
  },
  {
   "cell_type": "code",
   "execution_count": 46,
   "id": "fe1f21e5",
   "metadata": {},
   "outputs": [
    {
     "name": "stdout",
     "output_type": "stream",
     "text": [
      "Epoch 1/10\n",
      "1655/1655 [==============================] - 2s 1ms/step - loss: 29270.5977 - mean_absolute_error: 97.8497 - val_loss: 28496.0781 - val_mean_absolute_error: 97.5346\n",
      "Epoch 2/10\n",
      "1655/1655 [==============================] - 2s 1ms/step - loss: 26507.2656 - mean_absolute_error: 92.1955 - val_loss: 25617.2832 - val_mean_absolute_error: 90.1910\n",
      "Epoch 3/10\n",
      "1655/1655 [==============================] - 2s 1ms/step - loss: 23408.5117 - mean_absolute_error: 85.0154 - val_loss: 23104.0078 - val_mean_absolute_error: 80.6627\n",
      "Epoch 4/10\n",
      "1655/1655 [==============================] - 2s 1ms/step - loss: 21387.3652 - mean_absolute_error: 80.3785 - val_loss: 22059.1582 - val_mean_absolute_error: 89.3892\n",
      "Epoch 5/10\n",
      "1655/1655 [==============================] - 3s 2ms/step - loss: 20084.9688 - mean_absolute_error: 77.0108 - val_loss: 20585.6777 - val_mean_absolute_error: 79.1418\n",
      "Epoch 6/10\n",
      "1655/1655 [==============================] - 2s 1ms/step - loss: 19248.8340 - mean_absolute_error: 74.5266 - val_loss: 19903.9453 - val_mean_absolute_error: 75.1735\n",
      "Epoch 7/10\n",
      "1655/1655 [==============================] - 3s 2ms/step - loss: 18744.7109 - mean_absolute_error: 72.7121 - val_loss: 19558.2988 - val_mean_absolute_error: 71.9688\n",
      "Epoch 8/10\n",
      "1655/1655 [==============================] - 3s 2ms/step - loss: 18506.2812 - mean_absolute_error: 72.0598 - val_loss: 19357.8418 - val_mean_absolute_error: 72.3108\n",
      "Epoch 9/10\n",
      "1655/1655 [==============================] - 3s 2ms/step - loss: 18347.5527 - mean_absolute_error: 71.8512 - val_loss: 19419.5586 - val_mean_absolute_error: 77.3054\n",
      "Epoch 10/10\n",
      "1655/1655 [==============================] - 3s 2ms/step - loss: 18262.3945 - mean_absolute_error: 71.6732 - val_loss: 19201.5156 - val_mean_absolute_error: 70.5064\n"
     ]
    },
    {
     "data": {
      "text/plain": [
       "<tensorflow.python.keras.callbacks.History at 0x2850157ba30>"
      ]
     },
     "execution_count": 46,
     "metadata": {},
     "output_type": "execute_result"
    }
   ],
   "source": [
    "input_dims = len(X_train_whole[0])\n",
    "\n",
    "# Instantiating the model \n",
    "model = Sequential()\n",
    "\n",
    "# Model Layers\n",
    "model.add(Dense(input_dims,input_dim=input_dims, activation=\"relu\", kernel_initializer='normal'))\n",
    "model.add(Dense(1,activation=\"linear\",kernel_initializer='normal'))\n",
    "\n",
    "# Compiling the model\n",
    "model.compile(loss='mean_squared_error', optimizer='adam', metrics=['mean_absolute_error'])\n",
    "\n",
    "# Fitting the data to the model\n",
    "model.fit(X_train_whole,Y,epochs=10, batch_size=32, validation_split = 0.2)"
   ]
  },
  {
   "cell_type": "code",
   "execution_count": 47,
   "id": "fe406df0",
   "metadata": {},
   "outputs": [],
   "source": [
    "\n",
    "def get_confirm_df(input_list_objects,input_list_numbers,string_value_list):\n",
    "    df_rows = []\n",
    "    for i in np.arange(9):\n",
    "        df_rows.append((model_columns[i],string_value_list[i],input_list_objects[0][i]))\n",
    "    for i in np.arange(9,len(model_columns)):\n",
    "        df_rows.append((model_columns[i],input_list_numbers[i-9],input_list_numbers[i-9]))\n",
    "    confirm_df = pd.DataFrame(df_rows,columns=['Variable','Value','Encoded'])\n",
    "    return confirm_df\n"
   ]
  },
  {
   "cell_type": "code",
   "execution_count": 48,
   "id": "a0ae7ccf",
   "metadata": {},
   "outputs": [],
   "source": [
    "from datetime import datetime\n",
    "def get_prediction(df):\n",
    "    string_variable_list = ['property_type','room_type','bed_type',\n",
    "                   'cancellation_policy','city','host_identity_verified',\n",
    "                   'instant_bookable','neighbourhood','zipcode']\n",
    "    number_variable_list = ['amenities','accommodates','bathrooms','beds','bedrooms','host_since_days']\n",
    "    number_value_list = []\n",
    "    string_value_list = []\n",
    "    for x in string_variable_list:\n",
    "        string_value_list.append(df[x])\n",
    "    for x in number_variable_list:\n",
    "        if type(df[x]) != str and type(df[x]) != np.int64 and type(df[x]) != np.float64 and type(df[x]) != np.bool:\n",
    "            number_value_list.append(mt.get_days(df[x]))\n",
    "        else:\n",
    "            number_value_list.append(df[x])\n",
    "    string_vectorized= oe.transform(np.array(string_value_list).reshape(1,-1))\n",
    "    whole_input_vector = string_vectorized[0].tolist() + number_value_list\n",
    "    confirm_df = get_confirm_df(string_vectorized,number_value_list,string_value_list)\n",
    "    \n",
    "    prediction = model.predict(np.array(whole_input_vector).reshape(1,-1))\n",
    "    return prediction[0][0],confirm_df"
   ]
  },
  {
   "cell_type": "code",
   "execution_count": 49,
   "id": "3d96ce2c",
   "metadata": {},
   "outputs": [],
   "source": [
    "predict, df_predict = get_prediction(test_df)"
   ]
  },
  {
   "cell_type": "code",
   "execution_count": 50,
   "id": "e9d28a05",
   "metadata": {},
   "outputs": [
    {
     "data": {
      "text/html": [
       "<div>\n",
       "<style scoped>\n",
       "    .dataframe tbody tr th:only-of-type {\n",
       "        vertical-align: middle;\n",
       "    }\n",
       "\n",
       "    .dataframe tbody tr th {\n",
       "        vertical-align: top;\n",
       "    }\n",
       "\n",
       "    .dataframe thead th {\n",
       "        text-align: right;\n",
       "    }\n",
       "</style>\n",
       "<table border=\"1\" class=\"dataframe\">\n",
       "  <thead>\n",
       "    <tr style=\"text-align: right;\">\n",
       "      <th></th>\n",
       "      <th>Variable</th>\n",
       "      <th>Value</th>\n",
       "      <th>Encoded</th>\n",
       "    </tr>\n",
       "  </thead>\n",
       "  <tbody>\n",
       "    <tr>\n",
       "      <th>0</th>\n",
       "      <td>property_type</td>\n",
       "      <td>Apartment</td>\n",
       "      <td>0.0</td>\n",
       "    </tr>\n",
       "    <tr>\n",
       "      <th>1</th>\n",
       "      <td>room_type</td>\n",
       "      <td>Entire home/apt</td>\n",
       "      <td>0.0</td>\n",
       "    </tr>\n",
       "    <tr>\n",
       "      <th>2</th>\n",
       "      <td>bed_type</td>\n",
       "      <td>Real Bed</td>\n",
       "      <td>4.0</td>\n",
       "    </tr>\n",
       "    <tr>\n",
       "      <th>3</th>\n",
       "      <td>cancellation_policy</td>\n",
       "      <td>strict</td>\n",
       "      <td>2.0</td>\n",
       "    </tr>\n",
       "    <tr>\n",
       "      <th>4</th>\n",
       "      <td>city</td>\n",
       "      <td>NYC</td>\n",
       "      <td>4.0</td>\n",
       "    </tr>\n",
       "    <tr>\n",
       "      <th>5</th>\n",
       "      <td>host_identity_verified</td>\n",
       "      <td>True</td>\n",
       "      <td>1.0</td>\n",
       "    </tr>\n",
       "    <tr>\n",
       "      <th>6</th>\n",
       "      <td>instant_bookable</td>\n",
       "      <td>False</td>\n",
       "      <td>0.0</td>\n",
       "    </tr>\n",
       "    <tr>\n",
       "      <th>7</th>\n",
       "      <td>neighbourhood</td>\n",
       "      <td>Brooklyn Heights</td>\n",
       "      <td>76.0</td>\n",
       "    </tr>\n",
       "    <tr>\n",
       "      <th>8</th>\n",
       "      <td>zipcode</td>\n",
       "      <td>11201</td>\n",
       "      <td>191.0</td>\n",
       "    </tr>\n",
       "    <tr>\n",
       "      <th>9</th>\n",
       "      <td>amenities</td>\n",
       "      <td>8</td>\n",
       "      <td>8.0</td>\n",
       "    </tr>\n",
       "    <tr>\n",
       "      <th>10</th>\n",
       "      <td>accommodates</td>\n",
       "      <td>3</td>\n",
       "      <td>3.0</td>\n",
       "    </tr>\n",
       "    <tr>\n",
       "      <th>11</th>\n",
       "      <td>bathrooms</td>\n",
       "      <td>1.0</td>\n",
       "      <td>1.0</td>\n",
       "    </tr>\n",
       "    <tr>\n",
       "      <th>12</th>\n",
       "      <td>bedrooms</td>\n",
       "      <td>1.0</td>\n",
       "      <td>1.0</td>\n",
       "    </tr>\n",
       "    <tr>\n",
       "      <th>13</th>\n",
       "      <td>beds</td>\n",
       "      <td>1.0</td>\n",
       "      <td>1.0</td>\n",
       "    </tr>\n",
       "    <tr>\n",
       "      <th>14</th>\n",
       "      <td>host_since_days</td>\n",
       "      <td>4074</td>\n",
       "      <td>4074.0</td>\n",
       "    </tr>\n",
       "  </tbody>\n",
       "</table>\n",
       "</div>"
      ],
      "text/plain": [
       "                  Variable             Value  Encoded\n",
       "0            property_type         Apartment      0.0\n",
       "1                room_type   Entire home/apt      0.0\n",
       "2                 bed_type          Real Bed      4.0\n",
       "3      cancellation_policy            strict      2.0\n",
       "4                     city               NYC      4.0\n",
       "5   host_identity_verified              True      1.0\n",
       "6         instant_bookable             False      0.0\n",
       "7            neighbourhood  Brooklyn Heights     76.0\n",
       "8                  zipcode             11201    191.0\n",
       "9                amenities                 8      8.0\n",
       "10            accommodates                 3      3.0\n",
       "11               bathrooms               1.0      1.0\n",
       "12                bedrooms               1.0      1.0\n",
       "13                    beds               1.0      1.0\n",
       "14         host_since_days              4074   4074.0"
      ]
     },
     "execution_count": 50,
     "metadata": {},
     "output_type": "execute_result"
    }
   ],
   "source": [
    "df_predict"
   ]
  },
  {
   "cell_type": "code",
   "execution_count": 51,
   "id": "1697d96c",
   "metadata": {},
   "outputs": [
    {
     "data": {
      "text/plain": [
       "143.05702"
      ]
     },
     "execution_count": 51,
     "metadata": {},
     "output_type": "execute_result"
    }
   ],
   "source": [
    "predict"
   ]
  },
  {
   "cell_type": "code",
   "execution_count": null,
   "id": "0d83e686",
   "metadata": {},
   "outputs": [],
   "source": []
  },
  {
   "cell_type": "code",
   "execution_count": null,
   "id": "367ee59f",
   "metadata": {},
   "outputs": [],
   "source": []
  },
  {
   "cell_type": "code",
   "execution_count": null,
   "id": "278c0a31",
   "metadata": {},
   "outputs": [],
   "source": []
  },
  {
   "cell_type": "code",
   "execution_count": null,
   "id": "2c13ed9d",
   "metadata": {},
   "outputs": [],
   "source": []
  },
  {
   "cell_type": "code",
   "execution_count": null,
   "id": "b6cc4b4f",
   "metadata": {},
   "outputs": [],
   "source": []
  }
 ],
 "metadata": {
  "kernelspec": {
   "display_name": "Python 3",
   "language": "python",
   "name": "python3"
  },
  "language_info": {
   "codemirror_mode": {
    "name": "ipython",
    "version": 3
   },
   "file_extension": ".py",
   "mimetype": "text/x-python",
   "name": "python",
   "nbconvert_exporter": "python",
   "pygments_lexer": "ipython3",
   "version": "3.8.8"
  }
 },
 "nbformat": 4,
 "nbformat_minor": 5
}
